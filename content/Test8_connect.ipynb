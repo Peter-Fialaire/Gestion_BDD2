{
 "cells": [
  {
   "cell_type": "code",
   "execution_count": null,
   "metadata": {},
   "outputs": [],
   "source": [
    "# !pip install mysql-connector-python\n",
    "import mysql.connector"
   ]
  },
  {
   "cell_type": "markdown",
   "metadata": {},
   "source": [
    "https://www.tutorialspoint.com/creating-a-sqlite-database-from-csv-with-python"
   ]
  },
  {
   "cell_type": "markdown",
   "metadata": {},
   "source": [
    "https://gayerie.dev/docs/python/python3/mysql.html"
   ]
  },
  {
   "cell_type": "code",
   "execution_count": null,
   "metadata": {},
   "outputs": [],
   "source": [
    "# import voila\n",
    "import os\n",
    "import sqlite3\n",
    "import pandas as pd\n",
    "import csv\n",
    "from ipywidgets import Widget\n",
    "import ipywidgets as widgets\n",
    "Lieu = os.getcwd()"
   ]
  },
  {
   "cell_type": "code",
   "execution_count": null,
   "metadata": {},
   "outputs": [],
   "source": [
    "# \n",
    "\n",
    "\n",
    "# import psycopg2 as ps"
   ]
  },
  {
   "cell_type": "code",
   "execution_count": null,
   "metadata": {},
   "outputs": [],
   "source": []
  },
  {
   "cell_type": "code",
   "execution_count": null,
   "metadata": {},
   "outputs": [],
   "source": [
    "f = open(\"param.txt\", \"r\")\n",
    "contenu = f.readline()\n",
    "contenu = contenu.split(\",\")\n",
    "f.close() "
   ]
  },
  {
   "cell_type": "code",
   "execution_count": null,
   "metadata": {},
   "outputs": [],
   "source": [
    "connection_params = {\n",
    "    'host': str(contenu[0]),\n",
    "    'user': str(contenu[1]),\n",
    "    'password': str(contenu[2]),\n",
    "    'database': str(contenu[3]),}"
   ]
  },
  {
   "cell_type": "code",
   "execution_count": null,
   "metadata": {},
   "outputs": [],
   "source": [
    "#############################################################\n",
    "\"\"\" Retourne Le nom de la BDD et la liste des tables \"\"\"\n",
    "def Recup_Nom_BDD_List_Tabl(Chemin):\n",
    "    BDD_Nom = os.path.basename(Chemin)\n",
    "    List_Tabl=[os.path.join(f) for f in os.listdir(Chemin) if f.endswith(\".csv\")]\n",
    "    return BDD_Nom, List_Tabl\n",
    "#############################################################"
   ]
  },
  {
   "cell_type": "code",
   "execution_count": null,
   "metadata": {},
   "outputs": [],
   "source": [
    "def Creation_chaine_Tab(Ligns, Cols):\n",
    "    \"\"\" Pour présenter le tableau de données des formulaires remplis.\"\"\"\n",
    "    Chaine = \"<table style=' border-color:black;border-style:solid;border-width:1px;font-size:14px; !important;'><tr>\"\n",
    "    for Col in range(1, Cols+1):\n",
    "        Chaine += \"<th style='background-color: MediumTurquoise;padding: 2% 2% % 2%; border: 1px  black solid !important;'> *head_\"+str(Col)+\"* </th>\"\n",
    "    Chaine += \"</tr>\"\n",
    "    for Lign in range(1, Ligns+1):\n",
    "        Chaine += \"<tr>\"\n",
    "        for Col in range(1, Cols+1):\n",
    "            Chaine += \"<th  style='border: 1px  black solid !important;'> *Données_\"+str(Lign)+\"_\"+str(Col)+\"* </th>\"\n",
    "        Chaine += \"</tr>\"\n",
    "    Chaine += \"</table>\"\n",
    "    return Chaine"
   ]
  },
  {
   "cell_type": "code",
   "execution_count": null,
   "metadata": {},
   "outputs": [],
   "source": [
    "####  Connexion\n",
    "Lieu = os.getcwd()\n",
    "BDD_Nom, List_Tabl = Recup_Nom_BDD_List_Tabl(Lieu)\n",
    "# print(\"Liste des tables contenues dans la BDD nommée '\",BDD_Nom,\"' :\",List_Tabl)\n",
    "######################\n",
    "# creating a connection to the database\n",
    "BDD_Nom_fichier = BDD_Nom + \".db\"\n",
    "\n"
   ]
  },
  {
   "cell_type": "code",
   "execution_count": null,
   "metadata": {},
   "outputs": [],
   "source": [
    "####### Ouverture du fichier Excel ######\n",
    "fichier = open(\"Tab1.csv\",encoding=\"utf-8-sig\")\n",
    "Etudiants = list(csv.DictReader(fichier, delimiter=\";\"))\n",
    "List_cle = list(Etudiants[0].keys())\n",
    "Nb_cle = len(List_cle)\n",
    "###################################"
   ]
  },
  {
   "cell_type": "code",
   "execution_count": null,
   "metadata": {},
   "outputs": [],
   "source": [
    "Ligns, Cols = 2, Nb_cle\n",
    "Chaine = \"\"\n",
    "Tab =widgets.HTML(\n",
    "    value = Chaine,\n",
    "    description='Vos données :'\n",
    ")"
   ]
  },
  {
   "cell_type": "code",
   "execution_count": null,
   "metadata": {},
   "outputs": [],
   "source": [
    "Donnees = {}\n",
    "Donnees_texte = \"\"\n",
    "Donnees_label = widgets.Label(value=Donnees_texte)\n",
    "display(Donnees_label)"
   ]
  },
  {
   "cell_type": "code",
   "execution_count": null,
   "metadata": {},
   "outputs": [],
   "source": [
    "tableau = \"weppa\"\n",
    "tableau_label = widgets.Label(value=tableau)"
   ]
  },
  {
   "cell_type": "code",
   "execution_count": null,
   "metadata": {},
   "outputs": [],
   "source": [
    "Erreur_validation = \"Erreurs : 0 .\"\n",
    "Erreur_validation_label = widgets.Label(value=Erreur_validation)"
   ]
  },
  {
   "cell_type": "code",
   "execution_count": null,
   "metadata": {},
   "outputs": [],
   "source": [
    "def Chang_Nom(change):\n",
    "    global Donnees\n",
    "    Nom = change['new']\n",
    "    Donnees['Nom'] = Nom"
   ]
  },
  {
   "cell_type": "code",
   "execution_count": null,
   "metadata": {},
   "outputs": [],
   "source": [
    "def Chang_Prenom(change):\n",
    "    global Donnees\n",
    "    Prenom = change['new']\n",
    "    Donnees['Prénom'] = Prenom"
   ]
  },
  {
   "cell_type": "code",
   "execution_count": null,
   "metadata": {},
   "outputs": [],
   "source": [
    "def Chang_Age(change):\n",
    "    global Donnees\n",
    "    Age = change['new']\n",
    "    Donnees['Age'] = Age"
   ]
  },
  {
   "cell_type": "code",
   "execution_count": null,
   "metadata": {},
   "outputs": [],
   "source": [
    "def Validation(_):\n",
    "    global Donnees\n",
    "    List_cle_Donnees = list(Donnees.keys())\n",
    "    Taille = len(List_cle_Donnees)\n",
    "    Donnees_label.value = str(Donnees)\n",
    "    display(Donnees_label)\n",
    "\n",
    "    requette = \"INSERT INTO \" + str(List_Tabl[0][:-4]) + \" \" # + \" (\"\n",
    "    \n",
    "    # for colonne in List_cle_Donnees:\n",
    "    #     requette = requette + str(colonne) + \",\"\n",
    "    # requette = requette[:-1]\n",
    "    # requette = requette + \") \"\n",
    "    \n",
    "    requette = requette + \"values (\"\n",
    "    List_valeur_Donnees = list(Donnees.values())\n",
    "    for donn in List_valeur_Donnees:\n",
    "        if type(donn) == str:\n",
    "            requette = requette + \"'\" +str(donn) + \"'\" + \",\"\n",
    "        else:\n",
    "            requette = requette  +str(donn) + \",\"\n",
    "    requette = requette[:-1]\n",
    "    requette = requette + \")\"       \n",
    "    print(requette)\n",
    "    try:\n",
    "        \n",
    "        with mysql.connector.connect(**connection_params) as db :\n",
    "            with db.cursor() as c:\n",
    "                # requete = \"SELECT Name FROM City WHERE ID = '9';\"\n",
    "                requete = \"\"\"create table utilisateur (\n",
    "            id int primary key auto_increment,\n",
    "            nom varchar(100) not null,\n",
    "            score int default 0,\n",
    "            date_inscription date not null default now(),\n",
    "            actif bool default FALSE\n",
    "        ) ;\"\"\"\n",
    "                c.execute(requete)\n",
    "        \n",
    "        db.close()\n",
    "        # cur.execute(requette)\n",
    "        # conn.commit()\n",
    "        Erreur_validation_label.value=\"\"\n",
    "        return List_cle_Donnees\n",
    "    except Exception as e:\n",
    "        result = e\n",
    "        Erreur_validation_label.value=str(e)\n",
    "        return List_cle_Donnees"
   ]
  },
  {
   "cell_type": "code",
   "execution_count": null,
   "metadata": {},
   "outputs": [],
   "source": [
    "def Visualise(_):\n",
    "    global conn  , list_nom_colon\n",
    "    request = \"SELECT * FROM \" + str(List_Tabl[0][:-4])\n",
    "    cur.execute(request)\n",
    "    rows = cur.fetchall()\n",
    "    Cols = len(rows[0])\n",
    "    Chaine = \"<table style=' border-color:black;border-style:solid;border-width:1px;font-size:14px; !important;'><tr>\"\n",
    "    for Col in range(1, Cols+1):\n",
    "        Chaine += \"<th style='background-color: MediumTurquoise;padding: 2% 2% % 2%; border: 1px  black solid !important;'>\" + str(list_nom_colon[Col-1]) + \" </th>\"\n",
    "    Chaine += \"</tr>\"\n",
    "    for row in rows:\n",
    "        Chaine += \"<tr>\"\n",
    "        for Col in range(1, Cols+1):\n",
    "            Chaine += \"<th  style='border: 1px  black solid !important;'>\" + str(row[Col-1]) + \"</th>\"\n",
    "        Chaine += \"</tr>\"\n",
    "    Chaine += \"</table>\"\n",
    "    Tab.value = Chaine\n",
    "\n"
   ]
  },
  {
   "cell_type": "code",
   "execution_count": null,
   "metadata": {},
   "outputs": [],
   "source": [
    "def Sortir(_):\n",
    "    Widget.close_all()"
   ]
  },
  {
   "cell_type": "code",
   "execution_count": null,
   "metadata": {},
   "outputs": [],
   "source": [
    "Nom_Drop = widgets.Dropdown(\n",
    "    options=['#','Fialaire', 'Dupont', 'Cruise'],\n",
    "    value='#',\n",
    "    description='Nom:',\n",
    "    disabled=False,\n",
    ")\n",
    "Nom_Drop.observe(Chang_Nom, names='value')\n",
    "Nom_Drop"
   ]
  },
  {
   "cell_type": "code",
   "execution_count": null,
   "metadata": {
    "scrolled": true
   },
   "outputs": [],
   "source": [
    "Prenom_Drop = widgets.Dropdown(\n",
    "    options=['#','David', 'Jonh', 'Tom'],\n",
    "    value='#',\n",
    "    description='Prénom:',\n",
    "    disabled=False,\n",
    ")\n",
    "Prenom_Drop.observe(Chang_Prenom, names='value')\n",
    "Prenom_Drop"
   ]
  },
  {
   "cell_type": "code",
   "execution_count": null,
   "metadata": {},
   "outputs": [],
   "source": [
    "Age_Drop = widgets.Dropdown(\n",
    "    options=['#','19', '20', '21'],\n",
    "    value='#',\n",
    "    description='Age:',\n",
    "    disabled=False,\n",
    ")\n",
    "Age_Drop.observe(Chang_Age, names='value')\n",
    "Age_Drop"
   ]
  },
  {
   "cell_type": "code",
   "execution_count": null,
   "metadata": {},
   "outputs": [],
   "source": [
    "bouton_Valid = widgets.Button(\n",
    "    description='Validation',\n",
    "    disabled=False,\n",
    "    button_style='success', # 'success', 'info', 'warning', 'danger' or ''\n",
    "    tooltip='Validation ',\n",
    "    icon='check' # (FontAwesome names without the `fa-` prefix)\n",
    ")\n",
    "bouton_Valid.on_click(Validation)\n",
    "bouton_Valid"
   ]
  },
  {
   "cell_type": "code",
   "execution_count": null,
   "metadata": {},
   "outputs": [],
   "source": [
    "Erreur_validation_label"
   ]
  },
  {
   "cell_type": "code",
   "execution_count": null,
   "metadata": {},
   "outputs": [],
   "source": [
    "# bouton_Cree_Bdd = widgets.Button(\n",
    "    # description='Creation',\n",
    "    # disabled=False,\n",
    "    # button_style='info', # 'success', 'info', 'warning', 'danger' or ''\n",
    "    # tooltip='Creation ',\n",
    "    # icon='check' # (FontAwesome names without the `fa-` prefix)\n",
    "# )\n",
    "# bouton_Cree_Bdd.on_click(Creer_BDD)\n",
    "# bouton_Cree_Bdd"
   ]
  },
  {
   "cell_type": "code",
   "execution_count": null,
   "metadata": {},
   "outputs": [],
   "source": [
    "bouton_Sortir = widgets.Button(\n",
    "    description='Sortir',\n",
    "    disabled=False,\n",
    "    button_style='warning', # 'success', 'info', 'warning', 'danger' or ''\n",
    "    tooltip='Sortir ',\n",
    "    icon='check' # (FontAwesome names without the `fa-` prefix)\n",
    ")\n",
    "bouton_Sortir.on_click(Sortir)\n",
    "bouton_Sortir"
   ]
  },
  {
   "cell_type": "code",
   "execution_count": null,
   "metadata": {},
   "outputs": [],
   "source": [
    "bouton_Visualise = widgets.Button(\n",
    "    description='Visualiser',\n",
    "    disabled=False,\n",
    "    button_style='info', # 'success', 'info', 'warning', 'danger' or ''\n",
    "    tooltip='Visualiser ',\n",
    "    icon='check' # (FontAwesome names without the `fa-` prefix)\n",
    ")\n",
    "bouton_Visualise.on_click(Visualise)\n",
    "bouton_Visualise"
   ]
  },
  {
   "cell_type": "code",
   "execution_count": null,
   "metadata": {},
   "outputs": [],
   "source": [
    "Tab"
   ]
  },
  {
   "cell_type": "code",
   "execution_count": null,
   "metadata": {},
   "outputs": [],
   "source": [
    "# tableau_label"
   ]
  },
  {
   "cell_type": "code",
   "execution_count": null,
   "metadata": {},
   "outputs": [],
   "source": [
    "# cur.execute(\"INSERT INTO livre VALUES ('Les Aventures de Huckleberry Finn', 'Flammarion', '2023', '978-2081509511');\")"
   ]
  },
  {
   "cell_type": "code",
   "execution_count": null,
   "metadata": {},
   "outputs": [],
   "source": [
    "# cur.execute(\"INSERT INTO livre VALUES ('Fondation et Empire', 'Editions Denoël', '1999', '978-2207249123');\")"
   ]
  },
  {
   "cell_type": "code",
   "execution_count": null,
   "metadata": {},
   "outputs": [],
   "source": [
    "# inserting data into the table\n",
    "# for row in data:\n",
    "#    cur.execute(\"INSERT INTO table_name (column1_name, column2_name, ...) values (?, ?, ...)\", row)\n",
    "# conn.commit()"
   ]
  },
  {
   "cell_type": "code",
   "execution_count": null,
   "metadata": {},
   "outputs": [],
   "source": [
    "# committing changes\n",
    "# conn.commit()"
   ]
  },
  {
   "cell_type": "code",
   "execution_count": null,
   "metadata": {},
   "outputs": [],
   "source": [
    "# closing the connection\n",
    "# conn.close()"
   ]
  },
  {
   "cell_type": "code",
   "execution_count": null,
   "metadata": {},
   "outputs": [],
   "source": []
  }
 ],
 "metadata": {
  "kernelspec": {
   "display_name": "Python 3 (ipykernel)",
   "language": "python",
   "name": "python3"
  },
  "language_info": {
   "codemirror_mode": {
    "name": "ipython",
    "version": 3
   },
   "file_extension": ".py",
   "mimetype": "text/x-python",
   "name": "python",
   "nbconvert_exporter": "python",
   "pygments_lexer": "ipython3",
   "version": "3.11.5"
  }
 },
 "nbformat": 4,
 "nbformat_minor": 2
}
